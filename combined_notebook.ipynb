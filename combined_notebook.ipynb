{
 "cells": [
  {
   "cell_type": "markdown",
   "metadata": {},
   "source": [
    "**Introduction**\n",
    "\n",
    "In this project, we wanted to find out which neighborhoods are the best for driving. We looked at things like speed bumps, traffic signs, and the most recently paved streets because we think that less of these things make driving smoother. So, we counted how many speed bumps and traffic signs there are in each neighborhood, and we checked when the streets were last paved. This helps us see which neighborhoods have fewer things that slow down driving. We thought about including other factors like how busy the roads are and how many accidents happen, but we decided to focus on just the physical stuff like speed bumps and signs. Overall, we're trying to figure out which neighborhoods are easiest to drive through by looking at these things."
   ]
  },
  {
   "cell_type": "markdown",
   "metadata": {},
   "source": [
    "**Metrics**\n",
    "\n"
   ]
  },
  {
   "cell_type": "markdown",
   "metadata": {},
   "source": [
    "**Code**"
   ]
  },
  {
   "cell_type": "markdown",
   "metadata": {},
   "source": [
    "**Conclusion** -- Alexandra "
   ]
  },
  {
   "cell_type": "markdown",
   "metadata": {},
   "source": [
    "**Conclusion** -- Huma"
   ]
  }
 ],
 "metadata": {
  "kernelspec": {
   "display_name": "Python 3",
   "language": "python",
   "name": "python3"
  },
  "language_info": {
   "codemirror_mode": {
    "name": "ipython",
    "version": 3
   },
   "file_extension": ".py",
   "mimetype": "text/x-python",
   "name": "python",
   "nbconvert_exporter": "python",
   "pygments_lexer": "ipython3",
   "version": "3.8.3"
  }
 },
 "nbformat": 4,
 "nbformat_minor": 4
}
