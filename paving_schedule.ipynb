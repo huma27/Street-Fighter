{
 "cells": [
  {
   "cell_type": "markdown",
   "metadata": {},
   "source": [
    "**Introduction**\n",
    "\n",
    "In this project, we wanted to find the neighborhoods that are easiest to drive in. To do this, we looked at different things that affect how nice it is to drive. One important thing we looked at was how old the roads are and if they've been recently paved. We thought that neighborhoods with newer roads would be smoother to drive on and more enjoyable overall. So, we thought they might be the best neighborhoods for driving."
   ]
  },
  {
   "cell_type": "markdown",
   "metadata": {},
   "source": [
    "**DESCRIPTION OF METRIC**\n",
    "\n",
    "Our metric is all about how new the road pavement is. We believe that streets with fresh pavement are better, while those with old pavement are worse. To figure this out, we used the paving schedule dataset from the city of Pittsburgh (https://data.wprdc.org/dataset/paving-schedule), which tells us when streets were scheduled to be paved. This helped us find the best streets and then locate the neighborhoods they're in. "
   ]
  },
  {
   "cell_type": "code",
   "execution_count": 2,
   "metadata": {},
   "outputs": [],
   "source": [
    "import pandas as pd\n",
    "%matplotlib inline\n",
    "import matplotlib.pyplot as plt"
   ]
  },
  {
   "cell_type": "code",
   "execution_count": 3,
   "metadata": {},
   "outputs": [
    {
     "data": {
      "text/html": [
       "<div>\n",
       "<style scoped>\n",
       "    .dataframe tbody tr th:only-of-type {\n",
       "        vertical-align: middle;\n",
       "    }\n",
       "\n",
       "    .dataframe tbody tr th {\n",
       "        vertical-align: top;\n",
       "    }\n",
       "\n",
       "    .dataframe thead th {\n",
       "        text-align: right;\n",
       "    }\n",
       "</style>\n",
       "<table border=\"1\" class=\"dataframe\">\n",
       "  <thead>\n",
       "    <tr style=\"text-align: right;\">\n",
       "      <th></th>\n",
       "      <th>_id</th>\n",
       "      <th>id</th>\n",
       "      <th>street_id</th>\n",
       "      <th>activity</th>\n",
       "      <th>task_description</th>\n",
       "      <th>status</th>\n",
       "      <th>street</th>\n",
       "      <th>start_year</th>\n",
       "      <th>stop_date_actual</th>\n",
       "      <th>route_ahead</th>\n",
       "      <th>route_back</th>\n",
       "    </tr>\n",
       "  </thead>\n",
       "  <tbody>\n",
       "    <tr>\n",
       "      <th>0</th>\n",
       "      <td>1</td>\n",
       "      <td>1924601586</td>\n",
       "      <td>17060</td>\n",
       "      <td>Mechanical Patching</td>\n",
       "      <td>Paved as part of 2016 City paving program.</td>\n",
       "      <td>Completed</td>\n",
       "      <td>BALDWICK RD</td>\n",
       "      <td>2016</td>\n",
       "      <td>2016-10-31</td>\n",
       "      <td>NOBLESTOWN RD</td>\n",
       "      <td>STEEN ST</td>\n",
       "    </tr>\n",
       "    <tr>\n",
       "      <th>1</th>\n",
       "      <td>2</td>\n",
       "      <td>1512981617</td>\n",
       "      <td>9881</td>\n",
       "      <td>Mechanical Patching</td>\n",
       "      <td>Paved as part of 2016 City paving program.</td>\n",
       "      <td>Completed</td>\n",
       "      <td>GLENBURY ST</td>\n",
       "      <td>2016</td>\n",
       "      <td>2016-10-31</td>\n",
       "      <td>KOHEN ST</td>\n",
       "      <td>SELDON ST</td>\n",
       "    </tr>\n",
       "    <tr>\n",
       "      <th>2</th>\n",
       "      <td>3</td>\n",
       "      <td>640675845</td>\n",
       "      <td>6563</td>\n",
       "      <td>Mechanical Patching</td>\n",
       "      <td>Paved as part of City 2016 paving program.</td>\n",
       "      <td>Completed</td>\n",
       "      <td>S BELLEFIELD AVE</td>\n",
       "      <td>2016</td>\n",
       "      <td>2016-10-01</td>\n",
       "      <td>FILMORE ST</td>\n",
       "      <td>FIFTH AVE</td>\n",
       "    </tr>\n",
       "    <tr>\n",
       "      <th>3</th>\n",
       "      <td>4</td>\n",
       "      <td>538119097</td>\n",
       "      <td>17748</td>\n",
       "      <td>Mechanical Patching</td>\n",
       "      <td>Paved as part of City 2016 paving program.</td>\n",
       "      <td>Completed</td>\n",
       "      <td>S BELLEFIELD AVE</td>\n",
       "      <td>2016</td>\n",
       "      <td>2016-10-01</td>\n",
       "      <td>FORBES AVE</td>\n",
       "      <td>FILMORE ST</td>\n",
       "    </tr>\n",
       "    <tr>\n",
       "      <th>4</th>\n",
       "      <td>5</td>\n",
       "      <td>726876041</td>\n",
       "      <td>17060</td>\n",
       "      <td>Base Repair</td>\n",
       "      <td>NaN</td>\n",
       "      <td>Completed</td>\n",
       "      <td>BALDWICK RD</td>\n",
       "      <td>2009</td>\n",
       "      <td>2009-06-05</td>\n",
       "      <td>NOBLESTOWN RD</td>\n",
       "      <td>STEEN ST</td>\n",
       "    </tr>\n",
       "    <tr>\n",
       "      <th>5</th>\n",
       "      <td>6</td>\n",
       "      <td>1280601859</td>\n",
       "      <td>2137</td>\n",
       "      <td>Base Repair</td>\n",
       "      <td>NaN</td>\n",
       "      <td>Completed</td>\n",
       "      <td>N BRADDOCK AVE</td>\n",
       "      <td>2014</td>\n",
       "      <td>2014-04-15</td>\n",
       "      <td>SUSQUEHANNA ST</td>\n",
       "      <td>ANNAN WAY</td>\n",
       "    </tr>\n",
       "    <tr>\n",
       "      <th>6</th>\n",
       "      <td>7</td>\n",
       "      <td>1567782563</td>\n",
       "      <td>373</td>\n",
       "      <td>Base Repair</td>\n",
       "      <td>NaN</td>\n",
       "      <td>Completed</td>\n",
       "      <td>LIME ST</td>\n",
       "      <td>2009</td>\n",
       "      <td>2009-04-14</td>\n",
       "      <td>DEAD END</td>\n",
       "      <td>SAW MILL RUN BLVD</td>\n",
       "    </tr>\n",
       "    <tr>\n",
       "      <th>7</th>\n",
       "      <td>8</td>\n",
       "      <td>176640290</td>\n",
       "      <td>14702</td>\n",
       "      <td>Base Repair</td>\n",
       "      <td>NaN</td>\n",
       "      <td>Completed</td>\n",
       "      <td>JILLSON AVE</td>\n",
       "      <td>2013</td>\n",
       "      <td>2013-10-02</td>\n",
       "      <td>PARQUET ST</td>\n",
       "      <td>BROOKLINE BLVD</td>\n",
       "    </tr>\n",
       "    <tr>\n",
       "      <th>8</th>\n",
       "      <td>9</td>\n",
       "      <td>2010963472</td>\n",
       "      <td>5678</td>\n",
       "      <td>Base Repair</td>\n",
       "      <td>NaN</td>\n",
       "      <td>Completed</td>\n",
       "      <td>WESTMONT AVE</td>\n",
       "      <td>2009</td>\n",
       "      <td>2009-07-20</td>\n",
       "      <td>W AGNEW RD</td>\n",
       "      <td>COPPERFIELD AVE</td>\n",
       "    </tr>\n",
       "    <tr>\n",
       "      <th>9</th>\n",
       "      <td>10</td>\n",
       "      <td>2074462995</td>\n",
       "      <td>11938</td>\n",
       "      <td>Base Repair</td>\n",
       "      <td>NaN</td>\n",
       "      <td>Completed</td>\n",
       "      <td>BRABEC ST</td>\n",
       "      <td>2014</td>\n",
       "      <td>2014-07-25</td>\n",
       "      <td>BASIN ST</td>\n",
       "      <td>PROVINCE ST</td>\n",
       "    </tr>\n",
       "  </tbody>\n",
       "</table>\n",
       "</div>"
      ],
      "text/plain": [
       "   _id          id  street_id             activity  \\\n",
       "0    1  1924601586      17060  Mechanical Patching   \n",
       "1    2  1512981617       9881  Mechanical Patching   \n",
       "2    3   640675845       6563  Mechanical Patching   \n",
       "3    4   538119097      17748  Mechanical Patching   \n",
       "4    5   726876041      17060          Base Repair   \n",
       "5    6  1280601859       2137          Base Repair   \n",
       "6    7  1567782563        373          Base Repair   \n",
       "7    8   176640290      14702          Base Repair   \n",
       "8    9  2010963472       5678          Base Repair   \n",
       "9   10  2074462995      11938          Base Repair   \n",
       "\n",
       "                             task_description     status            street  \\\n",
       "0  Paved as part of 2016 City paving program.  Completed       BALDWICK RD   \n",
       "1  Paved as part of 2016 City paving program.  Completed       GLENBURY ST   \n",
       "2  Paved as part of City 2016 paving program.  Completed  S BELLEFIELD AVE   \n",
       "3  Paved as part of City 2016 paving program.  Completed  S BELLEFIELD AVE   \n",
       "4                                         NaN  Completed       BALDWICK RD   \n",
       "5                                         NaN  Completed    N BRADDOCK AVE   \n",
       "6                                         NaN  Completed           LIME ST   \n",
       "7                                         NaN  Completed       JILLSON AVE   \n",
       "8                                         NaN  Completed      WESTMONT AVE   \n",
       "9                                         NaN  Completed         BRABEC ST   \n",
       "\n",
       "   start_year stop_date_actual     route_ahead         route_back  \n",
       "0        2016       2016-10-31   NOBLESTOWN RD           STEEN ST  \n",
       "1        2016       2016-10-31        KOHEN ST          SELDON ST  \n",
       "2        2016       2016-10-01      FILMORE ST          FIFTH AVE  \n",
       "3        2016       2016-10-01      FORBES AVE         FILMORE ST  \n",
       "4        2009       2009-06-05   NOBLESTOWN RD           STEEN ST  \n",
       "5        2014       2014-04-15  SUSQUEHANNA ST          ANNAN WAY  \n",
       "6        2009       2009-04-14        DEAD END  SAW MILL RUN BLVD  \n",
       "7        2013       2013-10-02      PARQUET ST     BROOKLINE BLVD  \n",
       "8        2009       2009-07-20      W AGNEW RD    COPPERFIELD AVE  \n",
       "9        2014       2014-07-25        BASIN ST        PROVINCE ST  "
      ]
     },
     "execution_count": 3,
     "metadata": {},
     "output_type": "execute_result"
    }
   ],
   "source": [
    "data = pd.read_csv(\"paving_schedule.csv\")\n",
    "data.head(10)"
   ]
  },
  {
   "cell_type": "code",
   "execution_count": 46,
   "metadata": {},
   "outputs": [
    {
     "name": "stdout",
     "output_type": "stream",
     "text": [
      "Most recent streets paved for the most recent year ( 2021 ):\n",
      "         status          street  start_year stop_date_actual\n",
      "9444  Completed  BANKSVILLE AVE        2021       2021-05-04\n",
      "9445  Completed  BANKSVILLE AVE        2021       2021-05-04\n",
      "9446  Completed     CARNAHAN RD        2021       2021-05-04\n"
     ]
    }
   ],
   "source": [
    "paved_streets = data[data['status'] == 'Completed'].copy()\n",
    "\n",
    "paved_streets.loc[:, 'stop_date_actual'] = pd.to_datetime(paved_streets['stop_date_actual'])\n",
    "most_recent_year = paved_streets['start_year'].max()\n",
    "most_recent_streets = paved_streets[paved_streets['start_year'] == most_recent_year]\n",
    "max_stop_date = most_recent_streets['stop_date_actual'].max()\n",
    "most_recent_streets = most_recent_streets[most_recent_streets['stop_date_actual'] == max_stop_date]\n",
    "\n",
    "print(\"Most recent streets paved for the most recent year (\", most_recent_year, \"):\")\n",
    "print(most_recent_streets[['status', 'street', 'start_year', 'stop_date_actual']])"
   ]
  },
  {
   "cell_type": "code",
   "execution_count": 4,
   "metadata": {},
   "outputs": [
    {
     "data": {
      "image/png": "[encoded data removed]",
      "text/plain": [
       "<Figure size 432x288 with 1 Axes>"
      ]
     },
     "metadata": {
      "needs_background": "light"
     },
     "output_type": "display_data"
    }
   ],
   "source": [
    "year = data['start_year']\n",
    "year.plot.hist()\n",
    "plt.show()"
   ]
  },
  {
   "cell_type": "code",
   "execution_count": 6,
   "metadata": {},
   "outputs": [
    {
     "data": {
      "text/plain": [
       "<function matplotlib.pyplot.show(*args, **kw)>"
      ]
     },
     "execution_count": 6,
     "metadata": {},
     "output_type": "execute_result"
    },
    {
     "data": {
      "image/png": "[encoded data removed]",
      "text/plain": [
       "<Figure size 432x288 with 1 Axes>"
      ]
     },
     "metadata": {
      "needs_background": "light"
     },
     "output_type": "display_data"
    }
   ],
   "source": [
    "street = data['street'].value_counts().head(10)\n",
    "street.plot.bar()\n",
    "plt.show"
   ]
  },
  {
   "cell_type": "markdown",
   "metadata": {},
   "source": [
    "**Thought Process Markdown.**\n",
    "\n",
    "After reading in the dataset we removed any entry that was labled as \"incomplete\" because we are looking for completed pavements. Then we searched the dataset for which street(s) were most recently paved based on the column \"stop_actual_date\" and completion status. Then we created a graph depicting which year through out the dataset had the most street paving completed (2016). We also created a graph to determine which street(s) were paved the most often.\n",
    "\n",
    "**Metric Conclusion.**\n",
    "\n",
    "Based on the analysis conducted we determined a tie between Banksville Ave and Carnahan Rd due to their recent pavement dates and also due to their lack of need to be constantly repaved (lack of appearance in the second graph)"
   ]
  }
 ],
 "metadata": {
  "kernelspec": {
   "display_name": "Python 3",
   "language": "python",
   "name": "python3"
  },
  "language_info": {
   "codemirror_mode": {
    "name": "ipython",
    "version": 3
   },
   "file_extension": ".py",
   "mimetype": "text/x-python",
   "name": "python",
   "nbconvert_exporter": "python",
   "pygments_lexer": "ipython3",
   "version": "3.8.3"
  }
 },
 "nbformat": 4,
 "nbformat_minor": 4
}
